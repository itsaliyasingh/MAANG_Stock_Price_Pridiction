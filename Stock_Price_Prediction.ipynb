{
  "nbformat": 4,
  "nbformat_minor": 0,
  "metadata": {
    "colab": {
      "provenance": []
    },
    "kernelspec": {
      "name": "python3",
      "display_name": "Python 3"
    },
    "language_info": {
      "name": "python"
    }
  },
  "cells": [
    {
      "cell_type": "code",
      "execution_count": 1,
      "metadata": {
        "colab": {
          "base_uri": "https://localhost:8080/"
        },
        "id": "HEnLeG_wZxci",
        "outputId": "7bdc57e0-a42a-46e6-bb02-cdff6a775098"
      },
      "outputs": [
        {
          "output_type": "stream",
          "name": "stdout",
          "text": [
            "Mean Squared Error: 0.21355890396968724\n",
            "R-squared: 0.9999145421909\n"
          ]
        }
      ],
      "source": [
        "import numpy as np\n",
        "import pandas as pd\n",
        "from sklearn.linear_model import LinearRegression\n",
        "from sklearn.model_selection import train_test_split\n",
        "from sklearn.metrics import mean_squared_error, r2_score\n",
        "\n",
        "# The dataset should have columns: 'Date', 'Open', 'High', 'Low', 'Close', 'Volume', 'Adj Close'\n",
        "data = pd.read_csv('/content/Amazon.csv')\n",
        "\n",
        "# We'll use 'Close' as the target variable to predict\n",
        "target_col = 'Close'\n",
        "\n",
        "# Feature selection (you can experiment with other features as well)\n",
        "feature_cols = ['Open', 'High', 'Low', 'Volume']\n",
        "\n",
        "# Prepare data\n",
        "X = data[feature_cols].values\n",
        "y = data[target_col].values\n",
        "\n",
        "# Split data into training and testing sets\n",
        "X_train, X_test, y_train, y_test = train_test_split(X, y, test_size=0.2, random_state=42)\n",
        "\n",
        "# Create and train the model\n",
        "model = LinearRegression()\n",
        "model.fit(X_train, y_train)\n",
        "\n",
        "# Make predictions on the test set\n",
        "y_pred = model.predict(X_test)\n",
        "\n",
        "# Evaluate the model\n",
        "mse = mean_squared_error(y_test, y_pred)\n",
        "r_squared = r2_score(y_test, y_pred)\n",
        "\n",
        "print(f\"Mean Squared Error: {mse}\")\n",
        "print(f\"R-squared: {r_squared}\")\n"
      ]
    },
    {
      "cell_type": "code",
      "source": [
        "import numpy as np\n",
        "import pandas as pd\n",
        "from sklearn.linear_model import LinearRegression\n",
        "from sklearn.model_selection import train_test_split\n",
        "from sklearn.metrics import mean_squared_error, r2_score\n",
        "\n",
        "# The dataset should have columns: 'Date', 'Open', 'High', 'Low', 'Close', 'Volume', 'Adj Close'\n",
        "data = pd.read_csv('/content/Apple.csv')\n",
        "\n",
        "# We'll use 'Close' as the target variable to predict\n",
        "target_col = 'Close'\n",
        "\n",
        "# Feature selection (you can experiment with other features as well)\n",
        "feature_cols = ['Open', 'High', 'Low', 'Volume']\n",
        "\n",
        "# Prepare data\n",
        "X = data[feature_cols].values\n",
        "y = data[target_col].values\n",
        "\n",
        "# Split data into training and testing sets\n",
        "X_train, X_test, y_train, y_test = train_test_split(X, y, test_size=0.2, random_state=42)\n",
        "\n",
        "# Create and train the model\n",
        "model = LinearRegression()\n",
        "model.fit(X_train, y_train)\n",
        "\n",
        "# Make predictions on the test set\n",
        "y_pred = model.predict(X_test)\n",
        "\n",
        "# Evaluate the model\n",
        "mse = mean_squared_error(y_test, y_pred)\n",
        "r_squared = r2_score(y_test, y_pred)\n",
        "\n",
        "print(f\"Mean Squared Error: {mse}\")\n",
        "print(f\"R-squared: {r_squared}\")\n"
      ],
      "metadata": {
        "colab": {
          "base_uri": "https://localhost:8080/"
        },
        "id": "Zso8vbpbcIY2",
        "outputId": "2bb5dc9e-5647-4020-a18a-4c4c3708a2ba"
      },
      "execution_count": 2,
      "outputs": [
        {
          "output_type": "stream",
          "name": "stdout",
          "text": [
            "Mean Squared Error: 0.15050119560242814\n",
            "R-squared: 0.9999247152941494\n"
          ]
        }
      ]
    },
    {
      "cell_type": "code",
      "source": [
        "import numpy as np\n",
        "import pandas as pd\n",
        "from sklearn.linear_model import LinearRegression\n",
        "from sklearn.model_selection import train_test_split\n",
        "from sklearn.metrics import mean_squared_error, r2_score\n",
        "\n",
        "# The dataset should have columns: 'Date', 'Open', 'High', 'Low', 'Close', 'Volume', 'Adj Close'\n",
        "data = pd.read_csv('/content/Google.csv')\n",
        "\n",
        "# We'll use 'Close' as the target variable to predict\n",
        "target_col = 'Close'\n",
        "\n",
        "# Feature selection (you can experiment with other features as well)\n",
        "feature_cols = ['Open', 'High', 'Low', 'Volume']\n",
        "\n",
        "# Prepare data\n",
        "X = data[feature_cols].values\n",
        "y = data[target_col].values\n",
        "\n",
        "# Split data into training and testing sets\n",
        "X_train, X_test, y_train, y_test = train_test_split(X, y, test_size=0.2, random_state=42)\n",
        "\n",
        "# Create and train the model\n",
        "model = LinearRegression()\n",
        "model.fit(X_train, y_train)\n",
        "\n",
        "# Make predictions on the test set\n",
        "y_pred = model.predict(X_test)\n",
        "\n",
        "# Evaluate the model\n",
        "mse = mean_squared_error(y_test, y_pred)\n",
        "r_squared = r2_score(y_test, y_pred)\n",
        "\n",
        "print(f\"Mean Squared Error: {mse}\")\n",
        "print(f\"R-squared: {r_squared}\")\n"
      ],
      "metadata": {
        "colab": {
          "base_uri": "https://localhost:8080/"
        },
        "id": "Fyl1FPM7co7M",
        "outputId": "4e1d94d3-3285-49b3-8675-227760f95cdb"
      },
      "execution_count": 3,
      "outputs": [
        {
          "output_type": "stream",
          "name": "stdout",
          "text": [
            "Mean Squared Error: 0.11183435740897725\n",
            "R-squared: 0.9999139404082168\n"
          ]
        }
      ]
    },
    {
      "cell_type": "code",
      "source": [
        "import numpy as np\n",
        "import pandas as pd\n",
        "from sklearn.linear_model import LinearRegression\n",
        "from sklearn.model_selection import train_test_split\n",
        "from sklearn.metrics import mean_squared_error, r2_score\n",
        "\n",
        "\n",
        "# The dataset should have columns: 'Date', 'Open', 'High', 'Low', 'Close', 'Volume', 'Adj Close'\n",
        "data = pd.read_csv('/content/Netflix.csv')\n",
        "\n",
        "# We'll use 'Close' as the target variable to predict\n",
        "target_col = 'Close'\n",
        "\n",
        "# Feature selection (you can experiment with other features as well)\n",
        "feature_cols = ['Open', 'High', 'Low', 'Volume']\n",
        "\n",
        "# Prepare data\n",
        "X = data[feature_cols].values\n",
        "y = data[target_col].values\n",
        "\n",
        "# Split data into training and testing sets\n",
        "X_train, X_test, y_train, y_test = train_test_split(X, y, test_size=0.2, random_state=42)\n",
        "\n",
        "# Create and train the model\n",
        "model = LinearRegression()\n",
        "model.fit(X_train, y_train)\n",
        "\n",
        "# Make predictions on the test set\n",
        "y_pred = model.predict(X_test)\n",
        "\n",
        "# Evaluate the model\n",
        "mse = mean_squared_error(y_test, y_pred)\n",
        "r_squared = r2_score(y_test, y_pred)\n",
        "\n",
        "print(f\"Mean Squared Error: {mse}\")\n",
        "print(f\"R-squared: {r_squared}\")"
      ],
      "metadata": {
        "colab": {
          "base_uri": "https://localhost:8080/"
        },
        "outputId": "fd1cddf7-3ce9-4cfa-ec0d-ea7bedf1619b",
        "id": "tT8s0cN0dIV-"
      },
      "execution_count": 4,
      "outputs": [
        {
          "output_type": "stream",
          "name": "stdout",
          "text": [
            "Mean Squared Error: 4.236961453908708\n",
            "R-squared: 0.9998524869945908\n"
          ]
        }
      ]
    }
  ]
}